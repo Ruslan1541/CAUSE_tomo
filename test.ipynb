{
 "cells": [
  {
   "cell_type": "code",
   "execution_count": 9,
   "id": "8293e14e",
   "metadata": {},
   "outputs": [],
   "source": [
    "import pylab as plt\n",
    "from glob import glob\n",
    "from utils.utils import parse_filename, merge_patches, process_image_files\n",
    "import numpy as np\n",
    "import os"
   ]
  },
  {
   "cell_type": "code",
   "execution_count": 4,
   "id": "b62833f1",
   "metadata": {},
   "outputs": [
    {
     "name": "stderr",
     "output_type": "stream",
     "text": [
      "WARNING: pip is being invoked by an old script wrapper. This will fail in a future version of pip.\n",
      "Please see https://github.com/pypa/pip/issues/5599 for advice on fixing the underlying issue.\n",
      "To avoid this problem you can invoke Python with '-m pip' instead of running pip directly.\n"
     ]
    },
    {
     "data": {
      "text/html": [
       "<pre style=\"white-space:pre;overflow-x:auto;line-height:normal;font-family:Menlo,'DejaVu Sans Mono',consolas,'Courier New',monospace\">Collecting tensorboard\n",
       "</pre>\n"
      ],
      "text/plain": [
       "Collecting tensorboard\n"
      ]
     },
     "metadata": {},
     "output_type": "display_data"
    },
    {
     "data": {
      "text/html": [
       "<pre style=\"white-space:pre;overflow-x:auto;line-height:normal;font-family:Menlo,'DejaVu Sans Mono',consolas,'Courier New',monospace\">  Using cached tensorboard-2.19.0-py3-none-any.whl.metadata (1.8 kB)\n",
       "</pre>\n"
      ],
      "text/plain": [
       "  Using cached tensorboard-2.19.0-py3-none-any.whl.metadata (1.8 kB)\n"
      ]
     },
     "metadata": {},
     "output_type": "display_data"
    },
    {
     "data": {
      "text/html": [
       "<pre style=\"white-space:pre;overflow-x:auto;line-height:normal;font-family:Menlo,'DejaVu Sans Mono',consolas,'Courier New',monospace\">Collecting absl-py&gt;=0.4 (from tensorboard)\n",
       "</pre>\n"
      ],
      "text/plain": [
       "Collecting absl-py>=0.4 (from tensorboard)\n"
      ]
     },
     "metadata": {},
     "output_type": "display_data"
    },
    {
     "data": {
      "text/html": [
       "<pre style=\"white-space:pre;overflow-x:auto;line-height:normal;font-family:Menlo,'DejaVu Sans Mono',consolas,'Courier New',monospace\">  Downloading absl_py-2.3.0-py3-none-any.whl.metadata (2.4 kB)\n",
       "</pre>\n"
      ],
      "text/plain": [
       "  Downloading absl_py-2.3.0-py3-none-any.whl.metadata (2.4 kB)\n"
      ]
     },
     "metadata": {},
     "output_type": "display_data"
    },
    {
     "data": {
      "text/html": [
       "<pre style=\"white-space:pre;overflow-x:auto;line-height:normal;font-family:Menlo,'DejaVu Sans Mono',consolas,'Courier New',monospace\">Collecting grpcio&gt;=1.48.2 (from tensorboard)\n",
       "</pre>\n"
      ],
      "text/plain": [
       "Collecting grpcio>=1.48.2 (from tensorboard)\n"
      ]
     },
     "metadata": {},
     "output_type": "display_data"
    },
    {
     "data": {
      "text/html": [
       "<pre style=\"white-space:pre;overflow-x:auto;line-height:normal;font-family:Menlo,'DejaVu Sans Mono',consolas,'Courier New',monospace\">  Downloading grpcio-1.72.1-cp312-cp312-win_amd64.whl.metadata (4.0 kB)\n",
       "</pre>\n"
      ],
      "text/plain": [
       "  Downloading grpcio-1.72.1-cp312-cp312-win_amd64.whl.metadata (4.0 kB)\n"
      ]
     },
     "metadata": {},
     "output_type": "display_data"
    },
    {
     "data": {
      "text/html": [
       "<pre style=\"white-space:pre;overflow-x:auto;line-height:normal;font-family:Menlo,'DejaVu Sans Mono',consolas,'Courier New',monospace\">Collecting markdown&gt;=2.6.8 (from tensorboard)\n",
       "</pre>\n"
      ],
      "text/plain": [
       "Collecting markdown>=2.6.8 (from tensorboard)\n"
      ]
     },
     "metadata": {},
     "output_type": "display_data"
    },
    {
     "data": {
      "text/html": [
       "<pre style=\"white-space:pre;overflow-x:auto;line-height:normal;font-family:Menlo,'DejaVu Sans Mono',consolas,'Courier New',monospace\">  Downloading markdown-3.8-py3-none-any.whl.metadata (5.1 kB)\n",
       "</pre>\n"
      ],
      "text/plain": [
       "  Downloading markdown-3.8-py3-none-any.whl.metadata (5.1 kB)\n"
      ]
     },
     "metadata": {},
     "output_type": "display_data"
    },
    {
     "data": {
      "text/html": [
       "<pre style=\"white-space:pre;overflow-x:auto;line-height:normal;font-family:Menlo,'DejaVu Sans Mono',consolas,'Courier New',monospace\">Requirement already satisfied: numpy&gt;=1.12.0 in c:\\tomograph4\\lib\\site-packages (from tensorboard) (2.0.2)\n",
       "</pre>\n"
      ],
      "text/plain": [
       "Requirement already satisfied: numpy>=1.12.0 in c:\\tomograph4\\lib\\site-packages (from tensorboard) (2.0.2)\n"
      ]
     },
     "metadata": {},
     "output_type": "display_data"
    },
    {
     "data": {
      "text/html": [
       "<pre style=\"white-space:pre;overflow-x:auto;line-height:normal;font-family:Menlo,'DejaVu Sans Mono',consolas,'Courier New',monospace\">Requirement already satisfied: packaging in c:\\users\\geous\\appdata\\roaming\\python\\python312\\site-packages (from tensorboard) (24.2)\n",
       "</pre>\n"
      ],
      "text/plain": [
       "Requirement already satisfied: packaging in c:\\users\\geous\\appdata\\roaming\\python\\python312\\site-packages (from tensorboard) (24.2)\n"
      ]
     },
     "metadata": {},
     "output_type": "display_data"
    },
    {
     "data": {
      "text/html": [
       "<pre style=\"white-space:pre;overflow-x:auto;line-height:normal;font-family:Menlo,'DejaVu Sans Mono',consolas,'Courier New',monospace\">Requirement already satisfied: protobuf!=4.24.0,&gt;=3.19.6 in c:\\tomograph4\\lib\\site-packages (from tensorboard) (5.29.3)\n",
       "</pre>\n"
      ],
      "text/plain": [
       "Requirement already satisfied: protobuf!=4.24.0,>=3.19.6 in c:\\tomograph4\\lib\\site-packages (from tensorboard) (5.29.3)\n"
      ]
     },
     "metadata": {},
     "output_type": "display_data"
    },
    {
     "data": {
      "text/html": [
       "<pre style=\"white-space:pre;overflow-x:auto;line-height:normal;font-family:Menlo,'DejaVu Sans Mono',consolas,'Courier New',monospace\">Requirement already satisfied: setuptools&gt;=41.0.0 in c:\\tomograph4\\lib\\site-packages (from tensorboard) (75.8.0)\n",
       "</pre>\n"
      ],
      "text/plain": [
       "Requirement already satisfied: setuptools>=41.0.0 in c:\\tomograph4\\lib\\site-packages (from tensorboard) (75.8.0)\n"
      ]
     },
     "metadata": {},
     "output_type": "display_data"
    },
    {
     "data": {
      "text/html": [
       "<pre style=\"white-space:pre;overflow-x:auto;line-height:normal;font-family:Menlo,'DejaVu Sans Mono',consolas,'Courier New',monospace\">Requirement already satisfied: six&gt;1.9 in c:\\users\\geous\\appdata\\roaming\\python\\python312\\site-packages (from tensorboard) (1.17.0)\n",
       "</pre>\n"
      ],
      "text/plain": [
       "Requirement already satisfied: six>1.9 in c:\\users\\geous\\appdata\\roaming\\python\\python312\\site-packages (from tensorboard) (1.17.0)\n"
      ]
     },
     "metadata": {},
     "output_type": "display_data"
    },
    {
     "data": {
      "text/html": [
       "<pre style=\"white-space:pre;overflow-x:auto;line-height:normal;font-family:Menlo,'DejaVu Sans Mono',consolas,'Courier New',monospace\">Collecting tensorboard-data-server&lt;0.8.0,&gt;=0.7.0 (from tensorboard)\n",
       "</pre>\n"
      ],
      "text/plain": [
       "Collecting tensorboard-data-server<0.8.0,>=0.7.0 (from tensorboard)\n"
      ]
     },
     "metadata": {},
     "output_type": "display_data"
    },
    {
     "data": {
      "text/html": [
       "<pre style=\"white-space:pre;overflow-x:auto;line-height:normal;font-family:Menlo,'DejaVu Sans Mono',consolas,'Courier New',monospace\">  Using cached tensorboard_data_server-0.7.2-py3-none-any.whl.metadata (1.1 kB)\n",
       "</pre>\n"
      ],
      "text/plain": [
       "  Using cached tensorboard_data_server-0.7.2-py3-none-any.whl.metadata (1.1 kB)\n"
      ]
     },
     "metadata": {},
     "output_type": "display_data"
    },
    {
     "data": {
      "text/html": [
       "<pre style=\"white-space:pre;overflow-x:auto;line-height:normal;font-family:Menlo,'DejaVu Sans Mono',consolas,'Courier New',monospace\">Collecting werkzeug&gt;=1.0.1 (from tensorboard)\n",
       "</pre>\n"
      ],
      "text/plain": [
       "Collecting werkzeug>=1.0.1 (from tensorboard)\n"
      ]
     },
     "metadata": {},
     "output_type": "display_data"
    },
    {
     "data": {
      "text/html": [
       "<pre style=\"white-space:pre;overflow-x:auto;line-height:normal;font-family:Menlo,'DejaVu Sans Mono',consolas,'Courier New',monospace\">  Using cached werkzeug-3.1.3-py3-none-any.whl.metadata (3.7 kB)\n",
       "</pre>\n"
      ],
      "text/plain": [
       "  Using cached werkzeug-3.1.3-py3-none-any.whl.metadata (3.7 kB)\n"
      ]
     },
     "metadata": {},
     "output_type": "display_data"
    },
    {
     "data": {
      "text/html": [
       "<pre style=\"white-space:pre;overflow-x:auto;line-height:normal;font-family:Menlo,'DejaVu Sans Mono',consolas,'Courier New',monospace\">Requirement already satisfied: MarkupSafe&gt;=2.1.1 in c:\\tomograph4\\lib\\site-packages (from werkzeug&gt;=1.0.1-&gt;tensorboard) (3.0.2)\n",
       "</pre>\n"
      ],
      "text/plain": [
       "Requirement already satisfied: MarkupSafe>=2.1.1 in c:\\tomograph4\\lib\\site-packages (from werkzeug>=1.0.1->tensorboard) (3.0.2)\n"
      ]
     },
     "metadata": {},
     "output_type": "display_data"
    },
    {
     "data": {
      "text/html": [
       "<pre style=\"white-space:pre;overflow-x:auto;line-height:normal;font-family:Menlo,'DejaVu Sans Mono',consolas,'Courier New',monospace\">Using cached tensorboard-2.19.0-py3-none-any.whl (5.5 MB)\n",
       "</pre>\n"
      ],
      "text/plain": [
       "Using cached tensorboard-2.19.0-py3-none-any.whl (5.5 MB)\n"
      ]
     },
     "metadata": {},
     "output_type": "display_data"
    },
    {
     "data": {
      "text/html": [
       "<pre style=\"white-space:pre;overflow-x:auto;line-height:normal;font-family:Menlo,'DejaVu Sans Mono',consolas,'Courier New',monospace\">Downloading absl_py-2.3.0-py3-none-any.whl (135 kB)\n",
       "</pre>\n"
      ],
      "text/plain": [
       "Downloading absl_py-2.3.0-py3-none-any.whl (135 kB)\n"
      ]
     },
     "metadata": {},
     "output_type": "display_data"
    },
    {
     "data": {
      "text/html": [
       "<pre style=\"white-space:pre;overflow-x:auto;line-height:normal;font-family:Menlo,'DejaVu Sans Mono',consolas,'Courier New',monospace\">Downloading grpcio-1.72.1-cp312-cp312-win_amd64.whl (4.2 MB)\n",
       "</pre>\n"
      ],
      "text/plain": [
       "Downloading grpcio-1.72.1-cp312-cp312-win_amd64.whl (4.2 MB)\n"
      ]
     },
     "metadata": {},
     "output_type": "display_data"
    },
    {
     "data": {
      "application/vnd.jupyter.widget-view+json": {
       "model_id": "eb9fa8ed00154fe4a337c87f38ee7b16",
       "version_major": 2,
       "version_minor": 0
      },
      "text/plain": [
       "Output()"
      ]
     },
     "metadata": {},
     "output_type": "display_data"
    },
    {
     "data": {
      "text/html": [
       "<pre style=\"white-space:pre;overflow-x:auto;line-height:normal;font-family:Menlo,'DejaVu Sans Mono',consolas,'Courier New',monospace\"></pre>\n"
      ],
      "text/plain": []
     },
     "metadata": {},
     "output_type": "display_data"
    },
    {
     "data": {
      "text/html": [
       "<pre style=\"white-space:pre;overflow-x:auto;line-height:normal;font-family:Menlo,'DejaVu Sans Mono',consolas,'Courier New',monospace\">\n",
       "</pre>\n"
      ],
      "text/plain": [
       "\n"
      ]
     },
     "metadata": {},
     "output_type": "display_data"
    },
    {
     "data": {
      "text/html": [
       "<pre style=\"white-space:pre;overflow-x:auto;line-height:normal;font-family:Menlo,'DejaVu Sans Mono',consolas,'Courier New',monospace\">Downloading markdown-3.8-py3-none-any.whl (106 kB)\n",
       "</pre>\n"
      ],
      "text/plain": [
       "Downloading markdown-3.8-py3-none-any.whl (106 kB)\n"
      ]
     },
     "metadata": {},
     "output_type": "display_data"
    },
    {
     "data": {
      "text/html": [
       "<pre style=\"white-space:pre;overflow-x:auto;line-height:normal;font-family:Menlo,'DejaVu Sans Mono',consolas,'Courier New',monospace\">Using cached tensorboard_data_server-0.7.2-py3-none-any.whl (2.4 kB)\n",
       "</pre>\n"
      ],
      "text/plain": [
       "Using cached tensorboard_data_server-0.7.2-py3-none-any.whl (2.4 kB)\n"
      ]
     },
     "metadata": {},
     "output_type": "display_data"
    },
    {
     "data": {
      "text/html": [
       "<pre style=\"white-space:pre;overflow-x:auto;line-height:normal;font-family:Menlo,'DejaVu Sans Mono',consolas,'Courier New',monospace\">Using cached werkzeug-3.1.3-py3-none-any.whl (224 kB)\n",
       "</pre>\n"
      ],
      "text/plain": [
       "Using cached werkzeug-3.1.3-py3-none-any.whl (224 kB)\n"
      ]
     },
     "metadata": {},
     "output_type": "display_data"
    },
    {
     "data": {
      "text/html": [
       "<pre style=\"white-space:pre;overflow-x:auto;line-height:normal;font-family:Menlo,'DejaVu Sans Mono',consolas,'Courier New',monospace\">Installing collected packages: werkzeug, tensorboard-data-server, markdown, grpcio, absl-py, tensorboard\n",
       "</pre>\n"
      ],
      "text/plain": [
       "Installing collected packages: werkzeug, tensorboard-data-server, markdown, grpcio, absl-py, tensorboard\n"
      ]
     },
     "metadata": {},
     "output_type": "display_data"
    },
    {
     "data": {
      "text/html": [
       "<pre style=\"white-space:pre;overflow-x:auto;line-height:normal;font-family:Menlo,'DejaVu Sans Mono',consolas,'Courier New',monospace\"><span style=\"color: #808000; text-decoration-color: #808000\">  WARNING: The script markdown_py.exe is installed in 'c:\\tomograph4\\Scripts' which is not on PATH.\n",
       "  Consider adding this directory to PATH or, if you prefer to suppress this warning, use --no-warn-script-location.\n",
       "</span></pre>\n"
      ],
      "text/plain": [
       "\u001b[33m  WARNING: The script markdown_py.exe is installed in 'c:\\tomograph4\\Scripts' which is not on PATH.\n",
       "  Consider adding this directory to PATH or, if you prefer to suppress this warning, use --no-warn-script-location.\u001b[0m\u001b[33m\n",
       "\u001b[0m"
      ]
     },
     "metadata": {},
     "output_type": "display_data"
    },
    {
     "data": {
      "text/html": [
       "<pre style=\"white-space:pre;overflow-x:auto;line-height:normal;font-family:Menlo,'DejaVu Sans Mono',consolas,'Courier New',monospace\"><span style=\"color: #808000; text-decoration-color: #808000\">  WARNING: The script tensorboard.exe is installed in 'c:\\tomograph4\\Scripts' which is not on PATH.\n",
       "  Consider adding this directory to PATH or, if you prefer to suppress this warning, use --no-warn-script-location.\n",
       "</span></pre>\n"
      ],
      "text/plain": [
       "\u001b[33m  WARNING: The script tensorboard.exe is installed in 'c:\\tomograph4\\Scripts' which is not on PATH.\n",
       "  Consider adding this directory to PATH or, if you prefer to suppress this warning, use --no-warn-script-location.\u001b[0m\u001b[33m\n",
       "\u001b[0m"
      ]
     },
     "metadata": {},
     "output_type": "display_data"
    },
    {
     "data": {
      "text/html": [
       "<pre style=\"white-space:pre;overflow-x:auto;line-height:normal;font-family:Menlo,'DejaVu Sans Mono',consolas,'Courier New',monospace\">Successfully installed absl-py-2.3.0 grpcio-1.72.1 markdown-3.8 tensorboard-2.19.0 tensorboard-data-server-0.7.2 werkzeug-3.1.3\n",
       "</pre>\n"
      ],
      "text/plain": [
       "Successfully installed absl-py-2.3.0 grpcio-1.72.1 markdown-3.8 tensorboard-2.19.0 tensorboard-data-server-0.7.2 werkzeug-3.1.3\n"
      ]
     },
     "metadata": {},
     "output_type": "display_data"
    },
    {
     "data": {
      "text/html": [
       "<pre style=\"white-space:pre;overflow-x:auto;line-height:normal;font-family:Menlo,'DejaVu Sans Mono',consolas,'Courier New',monospace\">\n",
       "<span style=\"font-weight: bold\">[</span><span style=\"color: #000080; text-decoration-color: #000080; background-color: #ffffff\">notice</span><span style=\"color: #000000; text-decoration-color: #000000; background-color: #ffffff; font-weight: bold\">]</span><span style=\"color: #000000; text-decoration-color: #000000; background-color: #ffffff\"> A new release of pip is available: </span><span style=\"color: #800000; text-decoration-color: #800000; background-color: #ffffff\">24.3.1</span><span style=\"color: #000000; text-decoration-color: #000000; background-color: #ffffff\"> -&gt; </span><span style=\"color: #008000; text-decoration-color: #008000; background-color: #ffffff\">25.1.1</span>\n",
       "<span style=\"font-weight: bold\">[</span><span style=\"color: #000080; text-decoration-color: #000080; background-color: #ffffff\">notice</span><span style=\"color: #000000; text-decoration-color: #000000; background-color: #ffffff; font-weight: bold\">]</span><span style=\"color: #000000; text-decoration-color: #000000; background-color: #ffffff\"> To update, run: </span><span style=\"color: #008000; text-decoration-color: #008000; background-color: #ffffff\">python.exe -m pip install --upgrade pip</span>\n",
       "</pre>\n"
      ],
      "text/plain": [
       "\n",
       "\u001b[1m[\u001b[0m\u001b[34;49mnotice\u001b[0m\u001b[1;39;49m]\u001b[0m\u001b[39;49m A new release of pip is available: \u001b[0m\u001b[31;49m24.3.1\u001b[0m\u001b[39;49m -> \u001b[0m\u001b[32;49m25.1.1\u001b[0m\n",
       "\u001b[1m[\u001b[0m\u001b[34;49mnotice\u001b[0m\u001b[1;39;49m]\u001b[0m\u001b[39;49m To update, run: \u001b[0m\u001b[32;49mpython.exe -m pip install --upgrade pip\u001b[0m\n"
      ]
     },
     "metadata": {},
     "output_type": "display_data"
    },
    {
     "data": {
      "text/plain": [
       "0"
      ]
     },
     "execution_count": 4,
     "metadata": {},
     "output_type": "execute_result"
    }
   ],
   "source": [
    "import pip\n",
    "pip.main(['install', 'tensorboard'])"
   ]
  },
  {
   "cell_type": "code",
   "execution_count": 8,
   "id": "300888f1",
   "metadata": {},
   "outputs": [],
   "source": [
    "temp_root = r'D:\\Data\\CAUSE_data\\limestone\\results\\2_classes\\limestone_patches\\dinov2_vit_base_14\\2048\\train_dinov2\\temp'"
   ]
  },
  {
   "cell_type": "code",
   "execution_count": 12,
   "id": "c8f0386e",
   "metadata": {},
   "outputs": [],
   "source": [
    "masks_files = sorted(glob(f'{temp_root}/kmeans//*.png'), key=lambda p: parse_filename(p))\n",
    "# if len(masks_files)>= args.patches_shape[0]*args.patches_shape[1]:\n",
    "file_types = ['imgs', 'kmeans', 'crfs']\n",
    "patches = {t: [] for t in file_types}\n",
    "\n",
    "for file_type in file_types:\n",
    "    files = sorted(glob(f'{temp_root}/{file_type}//*.png'), \n",
    "                        key=lambda p: parse_filename(p))\n",
    "    for j in range(len(masks_files)):\n",
    "        img = process_image_files(files[j], 320)\n",
    "        patches[file_type].append(img)\n",
    "        # os.remove(files[j])"
   ]
  },
  {
   "cell_type": "code",
   "execution_count": 59,
   "id": "84c68dde",
   "metadata": {},
   "outputs": [],
   "source": [
    "patch_array = patches['crfs']\n",
    "step = int(320 * 0.8)"
   ]
  },
  {
   "cell_type": "code",
   "execution_count": 60,
   "id": "bb26085f",
   "metadata": {},
   "outputs": [
    {
     "data": {
      "text/plain": [
       "<matplotlib.image.AxesImage at 0x14188d3f530>"
      ]
     },
     "execution_count": 60,
     "metadata": {},
     "output_type": "execute_result"
    },
    {
     "data": {
      "image/png": "[encoded data removed]",
      "text/plain": [
       "<Figure size 640x480 with 1 Axes>"
      ]
     },
     "metadata": {},
     "output_type": "display_data"
    }
   ],
   "source": [
    "plt.imshow(patch_array[8])"
   ]
  },
  {
   "cell_type": "code",
   "execution_count": 61,
   "id": "3dc1a310",
   "metadata": {},
   "outputs": [],
   "source": [
    "full_mask = np.zeros((320, 2368, 2), dtype=np.uint8)"
   ]
  },
  {
   "cell_type": "code",
   "execution_count": 64,
   "id": "4ecc99ac",
   "metadata": {},
   "outputs": [],
   "source": [
    "classes = np.arange(2)"
   ]
  },
  {
   "cell_type": "code",
   "execution_count": null,
   "id": "ac9b1539",
   "metadata": {},
   "outputs": [],
   "source": [
    "for i in range(len(patch_array[:9])):\n",
    "    y0, x0 = 0 * step, i * step\n",
    "    patch = patch_array[i]\n",
    "    for idx, cls in enumerate(2):\n",
    "        mask = (patch == cls)\n",
    "        if mask.any():\n",
    "            full_mask[y0:y0+320, x0:x0+320, idx] += mask.astype(np.uint8)\n",
    "    mask = classes[full_mask.argmax(axis=-1)].astype(patches.dtype)"
   ]
  },
  {
   "cell_type": "code",
   "execution_count": 91,
   "id": "89448e34",
   "metadata": {},
   "outputs": [
    {
     "data": {
      "text/plain": [
       "<matplotlib.image.AxesImage at 0x1418e01fb00>"
      ]
     },
     "execution_count": 91,
     "metadata": {},
     "output_type": "execute_result"
    },
    {
     "data": {
      "image/png": "[encoded data removed]",
      "text/plain": [
       "<Figure size 1000x800 with 1 Axes>"
      ]
     },
     "metadata": {},
     "output_type": "display_data"
    }
   ],
   "source": [
    "plt.figure(figsize=(10, 8))\n",
    "plt.imshow((merged*(255//(classes.shape[0]-1))))"
   ]
  },
  {
   "cell_type": "code",
   "execution_count": 96,
   "id": "48fedfa2",
   "metadata": {},
   "outputs": [
    {
     "data": {
      "image/png": "[encoded data removed]",
      "text/plain": [
       "<Figure size 1000x800 with 5 Axes>"
      ]
     },
     "metadata": {},
     "output_type": "display_data"
    }
   ],
   "source": [
    "fig, ax = plt.subplots(nrows=1, ncols=5, figsize=(10, 8))\n",
    "for i in range(len(patch_array[:5])):\n",
    "    ax[i].imshow(patch_array[i])"
   ]
  },
  {
   "cell_type": "code",
   "execution_count": null,
   "id": "f437d085",
   "metadata": {},
   "outputs": [],
   "source": [
    "cv2.imwrite('CAUSE')"
   ]
  },
  {
   "cell_type": "code",
   "execution_count": 86,
   "id": "514a7335",
   "metadata": {},
   "outputs": [
    {
     "data": {
      "text/plain": [
       "array([[0, 0, 0, ..., 0, 0, 0],\n",
       "       [0, 0, 0, ..., 0, 0, 0],\n",
       "       [0, 0, 0, ..., 0, 0, 0],\n",
       "       ...,\n",
       "       [0, 0, 0, ..., 0, 0, 0],\n",
       "       [0, 0, 0, ..., 0, 0, 0],\n",
       "       [0, 0, 0, ..., 0, 0, 0]])"
      ]
     },
     "execution_count": 86,
     "metadata": {},
     "output_type": "execute_result"
    }
   ],
   "source": [
    "merged"
   ]
  },
  {
   "cell_type": "code",
   "execution_count": 80,
   "id": "2f48c6f3",
   "metadata": {},
   "outputs": [
    {
     "data": {
      "text/plain": [
       "<matplotlib.image.AxesImage at 0x1418b07a180>"
      ]
     },
     "execution_count": 80,
     "metadata": {},
     "output_type": "execute_result"
    },
    {
     "data": {
      "image/png": "[encoded data removed]",
      "text/plain": [
       "<Figure size 640x480 with 1 Axes>"
      ]
     },
     "metadata": {},
     "output_type": "display_data"
    }
   ],
   "source": [
    "plt.imshow(cv2.cvtColor(patch_array[5], cv2.COLOR_RGB2GRAY))"
   ]
  },
  {
   "cell_type": "code",
   "execution_count": null,
   "id": "a41de461",
   "metadata": {},
   "outputs": [],
   "source": []
  }
 ],
 "metadata": {
  "kernelspec": {
   "display_name": "Python 3",
   "language": "python",
   "name": "python3"
  },
  "language_info": {
   "codemirror_mode": {
    "name": "ipython",
    "version": 3
   },
   "file_extension": ".py",
   "mimetype": "text/x-python",
   "name": "python",
   "nbconvert_exporter": "python",
   "pygments_lexer": "ipython3",
   "version": "3.12.9"
  }
 },
 "nbformat": 4,
 "nbformat_minor": 5
}
